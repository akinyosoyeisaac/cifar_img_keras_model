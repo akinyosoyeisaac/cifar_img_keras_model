{
 "cells": [
  {
   "cell_type": "markdown",
   "metadata": {},
   "source": [
    "# BUILDING A DENSED MODEL USING KERAS TO PREDICT IMAGES OF OBJECTS USING THE CIFAR DATASET"
   ]
  },
  {
   "cell_type": "markdown",
   "metadata": {},
   "source": [
    "## loading the Necessary Libraries"
   ]
  },
  {
   "cell_type": "code",
   "execution_count": 1,
   "metadata": {
    "collapsed": true,
    "jupyter": {
     "outputs_hidden": true
    }
   },
   "outputs": [],
   "source": [
    "# Libraries for data manipulation, visualization and loading the dataset into python\n",
    "import pandas as pd\n",
    "import numpy as np\n",
    "import matplotlib.pyplot as plt\n",
    "import seaborn\n",
    "import os\n",
    "from os import path\n",
    "%matplotlib inline"
   ]
  },
  {
   "cell_type": "code",
   "execution_count": 2,
   "metadata": {
    "collapsed": true,
    "jupyter": {
     "outputs_hidden": true
    }
   },
   "outputs": [],
   "source": [
    "# Libraries for building our model\n",
    "from tensorflow.keras.utils import image_dataset_from_directory\n",
    "from tensorflow.keras.layers import Dense\n",
    "from tensorflow.keras import layers\n",
    "from tensorflow import keras"
   ]
  },
  {
   "cell_type": "markdown",
   "metadata": {},
   "source": [
    "## Loading the cifar dataset into python as train_ds, val_ds and test_ds"
   ]
  },
  {
   "cell_type": "code",
   "execution_count": 3,
   "metadata": {
    "collapsed": true,
    "jupyter": {
     "outputs_hidden": true
    }
   },
   "outputs": [],
   "source": [
    "file_dir = r'C:\\Users\\CARNOT\\cifar\\cifar10\\train\\airplane'\n",
    "file_path = file_dir + os.path.sep + '189_airplane.png'"
   ]
  },
  {
   "cell_type": "code",
   "execution_count": 4,
   "metadata": {
    "collapsed": true,
    "jupyter": {
     "outputs_hidden": true
    }
   },
   "outputs": [
    {
     "name": "stdout",
     "output_type": "stream",
     "text": [
      "Found 50000 files belonging to 10 classes.\n",
      "Using 35000 files for training.\n"
     ]
    }
   ],
   "source": [
    "train_ds = image_dataset_from_directory(r'C:\\Users\\CARNOT\\cifar\\cifar10\\train', image_size=(32, 32), seed=612, validation_split=0.3, subset='training')"
   ]
  },
  {
   "cell_type": "code",
   "execution_count": 5,
   "metadata": {
    "collapsed": true,
    "jupyter": {
     "outputs_hidden": true
    }
   },
   "outputs": [
    {
     "name": "stdout",
     "output_type": "stream",
     "text": [
      "Found 50000 files belonging to 10 classes.\n",
      "Using 15000 files for validation.\n"
     ]
    }
   ],
   "source": [
    "val_ds = image_dataset_from_directory(r'C:\\Users\\CARNOT\\cifar\\cifar10\\train', image_size=(32, 32), seed=612, validation_split=0.3, subset='validation')"
   ]
  },
  {
   "cell_type": "code",
   "execution_count": 6,
   "metadata": {
    "collapsed": true,
    "jupyter": {
     "outputs_hidden": true
    }
   },
   "outputs": [
    {
     "name": "stdout",
     "output_type": "stream",
     "text": [
      "Found 10000 files belonging to 10 classes.\n"
     ]
    }
   ],
   "source": [
    "test_ds = image_dataset_from_directory(r'C:\\Users\\CARNOT\\cifar\\cifar10\\test', image_size=(32, 32), seed=612)"
   ]
  },
  {
   "cell_type": "markdown",
   "metadata": {},
   "source": [
    "## Preview the image in the train_ds and the label everytime the for loop is run a different image is being generated"
   ]
  },
  {
   "cell_type": "code",
   "execution_count": 7,
   "metadata": {
    "collapsed": true,
    "jupyter": {
     "outputs_hidden": true
    }
   },
   "outputs": [
    {
     "name": "stdout",
     "output_type": "stream",
     "text": [
      "label: tf.Tensor(8, shape=(), dtype=int32)\n"
     ]
    },
    {
     "data": {
      "image/png": "[encoded data removed]",
      "text/plain": [
       "<Figure size 432x288 with 1 Axes>"
      ]
     },
     "metadata": {
      "needs_background": "light"
     },
     "output_type": "display_data"
    }
   ],
   "source": [
    "for image, label in train_ds:\n",
    "    y = label[0]\n",
    "    plt.imshow(image[0]/255)\n",
    "    print('label:', label[0])\n",
    "    break"
   ]
  },
  {
   "cell_type": "markdown",
   "metadata": {},
   "source": [
    "## Loading the class_label into python"
   ]
  },
  {
   "cell_type": "code",
   "execution_count": 8,
   "metadata": {
    "collapsed": true,
    "jupyter": {
     "outputs_hidden": true
    }
   },
   "outputs": [],
   "source": [
    "class_label = np.array(open(r'C:\\Users\\CARNOT\\cifar\\cifar10\\labels.txt').read().splitlines())"
   ]
  },
  {
   "cell_type": "code",
   "execution_count": 9,
   "metadata": {
    "collapsed": true,
    "jupyter": {
     "outputs_hidden": true
    }
   },
   "outputs": [
    {
     "data": {
      "text/plain": [
       "'dog'"
      ]
     },
     "execution_count": 9,
     "metadata": {},
     "output_type": "execute_result"
    }
   ],
   "source": [
    "class_label[5]"
   ]
  },
  {
   "cell_type": "markdown",
   "metadata": {},
   "source": [
    "## The model makes use of a sequential model by stacking different layers linearly\n",
    "- The input into the model which was in the range of 0 - 255 was normalize using the **Rescaling** layer\n",
    "- The input shape is 3-dimensional in order to use the this input with a dense layer the input is flatten using the **Flatten** layer\n",
    "- Three hidden dense layer with a neuron of 300, 300 and 100 respectively and an activation function of **relu**\n",
    "- The output was generated as the last layer with 10 neuron and a softmax activation function"
   ]
  },
  {
   "cell_type": "code",
   "execution_count": 12,
   "metadata": {
    "collapsed": true,
    "jupyter": {
     "outputs_hidden": true
    }
   },
   "outputs": [],
   "source": [
    "model = keras.Sequential()\n",
    "model.add(layers.Rescaling(1./255, input_shape = (32,32,3)))\n",
    "model.add(layers.Flatten())\n",
    "model.add(Dense(300, activation='relu'))\n",
    "model.add(Dense(300, activation='relu'))\n",
    "model.add(Dense(100, activation='relu'))\n",
    "model.add(Dense(10, activation='softmax'))"
   ]
  },
  {
   "cell_type": "markdown",
   "metadata": {},
   "source": [
    "## Model summary "
   ]
  },
  {
   "cell_type": "code",
   "execution_count": 13,
   "metadata": {
    "collapsed": true,
    "jupyter": {
     "outputs_hidden": true
    }
   },
   "outputs": [
    {
     "name": "stdout",
     "output_type": "stream",
     "text": [
      "Model: \"sequential_1\"\n",
      "_________________________________________________________________\n",
      " Layer (type)                Output Shape              Param #   \n",
      "=================================================================\n",
      " rescaling_1 (Rescaling)     (None, 32, 32, 3)         0         \n",
      "                                                                 \n",
      " flatten_1 (Flatten)         (None, 3072)              0         \n",
      "                                                                 \n",
      " dense_4 (Dense)             (None, 300)               921900    \n",
      "                                                                 \n",
      " dense_5 (Dense)             (None, 300)               90300     \n",
      "                                                                 \n",
      " dense_6 (Dense)             (None, 100)               30100     \n",
      "                                                                 \n",
      " dense_7 (Dense)             (None, 10)                1010      \n",
      "                                                                 \n",
      "=================================================================\n",
      "Total params: 1,043,310\n",
      "Trainable params: 1,043,310\n",
      "Non-trainable params: 0\n",
      "_________________________________________________________________\n"
     ]
    }
   ],
   "source": [
    "model.summary()"
   ]
  },
  {
   "cell_type": "markdown",
   "metadata": {},
   "source": [
    "## Model compilation using Adam as optimizers, sparse_categorical_crossentropy as loss, accuracy as metrics, the model was training using 40 epochs and each epoch as 1094 runs "
   ]
  },
  {
   "cell_type": "code",
   "execution_count": 28,
   "metadata": {
    "collapsed": true,
    "jupyter": {
     "outputs_hidden": true
    }
   },
   "outputs": [],
   "source": [
    "model.compile(optimizer=keras.optimizers.Adam(), loss= 'sparse_categorical_crossentropy', metrics=['accuracy'])"
   ]
  },
  {
   "cell_type": "code",
   "execution_count": 29,
   "metadata": {
    "collapsed": true,
    "jupyter": {
     "outputs_hidden": true
    }
   },
   "outputs": [
    {
     "name": "stdout",
     "output_type": "stream",
     "text": [
      "Epoch 1/40\n",
      "1094/1094 [==============================] - 566s 513ms/step - loss: 1.9042 - accuracy: 0.3073 - val_loss: 1.7741 - val_accuracy: 0.3535\n",
      "Epoch 2/40\n",
      "1094/1094 [==============================] - 795s 721ms/step - loss: 1.7202 - accuracy: 0.3855 - val_loss: 1.7156 - val_accuracy: 0.3787\n",
      "Epoch 3/40\n",
      "1094/1094 [==============================] - 579s 527ms/step - loss: 1.6354 - accuracy: 0.4105 - val_loss: 1.6073 - val_accuracy: 0.4239\n",
      "Epoch 4/40\n",
      "1094/1094 [==============================] - 582s 529ms/step - loss: 1.5824 - accuracy: 0.4331 - val_loss: 1.6667 - val_accuracy: 0.4041\n",
      "Epoch 5/40\n",
      "1094/1094 [==============================] - 666s 606ms/step - loss: 1.5444 - accuracy: 0.4437 - val_loss: 1.5789 - val_accuracy: 0.4320\n",
      "Epoch 6/40\n",
      "1094/1094 [==============================] - 679s 615ms/step - loss: 1.5030 - accuracy: 0.4591 - val_loss: 1.5532 - val_accuracy: 0.4508\n",
      "Epoch 7/40\n",
      "1094/1094 [==============================] - 556s 506ms/step - loss: 1.4747 - accuracy: 0.4724 - val_loss: 1.5736 - val_accuracy: 0.4382\n",
      "Epoch 8/40\n",
      "1094/1094 [==============================] - 556s 505ms/step - loss: 1.4431 - accuracy: 0.4848 - val_loss: 1.5903 - val_accuracy: 0.4352\n",
      "Epoch 9/40\n",
      "1094/1094 [==============================] - 431s 391ms/step - loss: 1.4205 - accuracy: 0.4876 - val_loss: 1.5506 - val_accuracy: 0.4548\n",
      "Epoch 10/40\n",
      "1094/1094 [==============================] - 64s 58ms/step - loss: 1.3995 - accuracy: 0.4967 - val_loss: 1.5652 - val_accuracy: 0.4454\n",
      "Epoch 11/40\n",
      "1094/1094 [==============================] - 65s 59ms/step - loss: 1.3694 - accuracy: 0.5090 - val_loss: 1.5495 - val_accuracy: 0.4603\n",
      "Epoch 12/40\n",
      "1094/1094 [==============================] - 63s 57ms/step - loss: 1.3509 - accuracy: 0.5134 - val_loss: 1.5811 - val_accuracy: 0.4575\n",
      "Epoch 13/40\n",
      "1094/1094 [==============================] - 140s 128ms/step - loss: 1.3254 - accuracy: 0.5221 - val_loss: 1.5500 - val_accuracy: 0.4638\n",
      "Epoch 14/40\n",
      "1094/1094 [==============================] - 44375s 41s/step - loss: 1.3122 - accuracy: 0.5302 - val_loss: 1.5758 - val_accuracy: 0.4556\n",
      "Epoch 15/40\n",
      "1094/1094 [==============================] - 416s 377ms/step - loss: 1.2887 - accuracy: 0.5337 - val_loss: 1.5457 - val_accuracy: 0.4737\n",
      "Epoch 16/40\n",
      "1094/1094 [==============================] - 56s 51ms/step - loss: 1.2663 - accuracy: 0.5431 - val_loss: 1.5818 - val_accuracy: 0.4659\n",
      "Epoch 17/40\n",
      "1094/1094 [==============================] - 57s 52ms/step - loss: 1.2496 - accuracy: 0.5496 - val_loss: 1.6256 - val_accuracy: 0.4568\n",
      "Epoch 18/40\n",
      "1094/1094 [==============================] - 58s 53ms/step - loss: 1.2406 - accuracy: 0.5558 - val_loss: 1.6701 - val_accuracy: 0.4480\n",
      "Epoch 19/40\n",
      "1094/1094 [==============================] - 180s 165ms/step - loss: 1.2216 - accuracy: 0.5590 - val_loss: 1.6802 - val_accuracy: 0.4444\n",
      "Epoch 20/40\n",
      "1094/1094 [==============================] - 403s 368ms/step - loss: 1.2071 - accuracy: 0.5632 - val_loss: 1.6595 - val_accuracy: 0.4576\n",
      "Epoch 21/40\n",
      "1094/1094 [==============================] - 47s 43ms/step - loss: 1.1880 - accuracy: 0.5719 - val_loss: 1.7289 - val_accuracy: 0.4506\n",
      "Epoch 22/40\n",
      "1094/1094 [==============================] - 48s 44ms/step - loss: 1.1769 - accuracy: 0.5747 - val_loss: 1.7229 - val_accuracy: 0.4551\n",
      "Epoch 23/40\n",
      "1094/1094 [==============================] - 94s 86ms/step - loss: 1.1569 - accuracy: 0.5830 - val_loss: 1.7427 - val_accuracy: 0.4511\n",
      "Epoch 24/40\n",
      "1094/1094 [==============================] - 48s 44ms/step - loss: 1.1443 - accuracy: 0.5869 - val_loss: 1.7318 - val_accuracy: 0.4586\n",
      "Epoch 25/40\n",
      "1094/1094 [==============================] - 48s 44ms/step - loss: 1.1325 - accuracy: 0.5899 - val_loss: 1.7409 - val_accuracy: 0.4603\n",
      "Epoch 26/40\n",
      "1094/1094 [==============================] - 49s 44ms/step - loss: 1.1182 - accuracy: 0.5953 - val_loss: 1.7800 - val_accuracy: 0.4569\n",
      "Epoch 27/40\n",
      "1094/1094 [==============================] - 206s 188ms/step - loss: 1.0962 - accuracy: 0.6010 - val_loss: 1.8281 - val_accuracy: 0.4409\n",
      "Epoch 28/40\n",
      "1094/1094 [==============================] - 46s 42ms/step - loss: 1.0931 - accuracy: 0.6047 - val_loss: 1.8418 - val_accuracy: 0.4486\n",
      "Epoch 29/40\n",
      "1094/1094 [==============================] - 48s 44ms/step - loss: 1.0814 - accuracy: 0.6072 - val_loss: 1.8777 - val_accuracy: 0.4429\n",
      "Epoch 30/40\n",
      "1094/1094 [==============================] - 48s 43ms/step - loss: 1.0558 - accuracy: 0.6217 - val_loss: 1.8269 - val_accuracy: 0.4593\n",
      "Epoch 31/40\n",
      "1094/1094 [==============================] - 48s 44ms/step - loss: 1.0513 - accuracy: 0.6207 - val_loss: 1.8703 - val_accuracy: 0.4557\n",
      "Epoch 32/40\n",
      "1094/1094 [==============================] - 193s 177ms/step - loss: 1.0454 - accuracy: 0.6230 - val_loss: 1.8665 - val_accuracy: 0.4562\n",
      "Epoch 33/40\n",
      "1094/1094 [==============================] - 59s 54ms/step - loss: 1.0350 - accuracy: 0.6249 - val_loss: 1.9442 - val_accuracy: 0.4533\n",
      "Epoch 34/40\n",
      "1094/1094 [==============================] - 223s 203ms/step - loss: 1.0237 - accuracy: 0.6271 - val_loss: 1.9200 - val_accuracy: 0.4509\n",
      "Epoch 35/40\n",
      "1094/1094 [==============================] - 56s 51ms/step - loss: 1.0142 - accuracy: 0.6315 - val_loss: 2.0447 - val_accuracy: 0.4416\n",
      "Epoch 36/40\n",
      "1094/1094 [==============================] - 57s 52ms/step - loss: 0.9980 - accuracy: 0.6359 - val_loss: 1.9623 - val_accuracy: 0.4515\n",
      "Epoch 37/40\n",
      "1094/1094 [==============================] - 57s 52ms/step - loss: 0.9830 - accuracy: 0.6428 - val_loss: 1.9412 - val_accuracy: 0.4529\n",
      "Epoch 38/40\n",
      "1094/1094 [==============================] - 60s 55ms/step - loss: 0.9798 - accuracy: 0.6457 - val_loss: 2.0801 - val_accuracy: 0.4519\n",
      "Epoch 39/40\n",
      "1094/1094 [==============================] - 57s 52ms/step - loss: 0.9711 - accuracy: 0.6462 - val_loss: 2.1421 - val_accuracy: 0.4499\n",
      "Epoch 40/40\n",
      "1094/1094 [==============================] - 189s 172ms/step - loss: 0.9544 - accuracy: 0.6537 - val_loss: 2.0978 - val_accuracy: 0.4437\n"
     ]
    }
   ],
   "source": [
    "history = model.fit(train_ds, epochs=40, validation_data=val_ds)"
   ]
  },
  {
   "cell_type": "code",
   "execution_count": 30,
   "metadata": {
    "collapsed": true,
    "jupyter": {
     "outputs_hidden": true
    }
   },
   "outputs": [
    {
     "data": {
      "text/plain": [
       "{'verbose': 1, 'epochs': 40, 'steps': 1094}"
      ]
     },
     "execution_count": 30,
     "metadata": {},
     "output_type": "execute_result"
    }
   ],
   "source": [
    "history.params"
   ]
  },
  {
   "cell_type": "code",
   "execution_count": 31,
   "metadata": {
    "collapsed": true,
    "jupyter": {
     "outputs_hidden": true
    }
   },
   "outputs": [
    {
     "data": {
      "text/plain": [
       "{'loss': [1.9041796922683716,\n",
       "  1.7201708555221558,\n",
       "  1.6354111433029175,\n",
       "  1.582448959350586,\n",
       "  1.5444411039352417,\n",
       "  1.5029915571212769,\n",
       "  1.4747072458267212,\n",
       "  1.4431449174880981,\n",
       "  1.4204879999160767,\n",
       "  1.399451494216919,\n",
       "  1.369408130645752,\n",
       "  1.3508589267730713,\n",
       "  1.3253555297851562,\n",
       "  1.3121525049209595,\n",
       "  1.2886923551559448,\n",
       "  1.266309380531311,\n",
       "  1.249582052230835,\n",
       "  1.2405872344970703,\n",
       "  1.221564531326294,\n",
       "  1.2071162462234497,\n",
       "  1.1879570484161377,\n",
       "  1.176931619644165,\n",
       "  1.1569026708602905,\n",
       "  1.1442818641662598,\n",
       "  1.1325427293777466,\n",
       "  1.1181720495224,\n",
       "  1.0962464809417725,\n",
       "  1.093075156211853,\n",
       "  1.081420660018921,\n",
       "  1.0558325052261353,\n",
       "  1.0513145923614502,\n",
       "  1.0453780889511108,\n",
       "  1.0349661111831665,\n",
       "  1.0236907005310059,\n",
       "  1.0142441987991333,\n",
       "  0.9980206489562988,\n",
       "  0.9829750061035156,\n",
       "  0.9798172116279602,\n",
       "  0.9711115956306458,\n",
       "  0.9543758034706116],\n",
       " 'accuracy': [0.30731427669525146,\n",
       "  0.3855142891407013,\n",
       "  0.41048571467399597,\n",
       "  0.43308570981025696,\n",
       "  0.44371429085731506,\n",
       "  0.45905715227127075,\n",
       "  0.4724000096321106,\n",
       "  0.48482856154441833,\n",
       "  0.4876285791397095,\n",
       "  0.496742844581604,\n",
       "  0.5089714527130127,\n",
       "  0.5134285688400269,\n",
       "  0.5220857262611389,\n",
       "  0.5302000045776367,\n",
       "  0.5337142944335938,\n",
       "  0.5430856943130493,\n",
       "  0.5496000051498413,\n",
       "  0.5557714104652405,\n",
       "  0.5590285658836365,\n",
       "  0.5631714463233948,\n",
       "  0.5719143152236938,\n",
       "  0.5747143030166626,\n",
       "  0.5830000042915344,\n",
       "  0.5869428515434265,\n",
       "  0.5898857116699219,\n",
       "  0.5953428745269775,\n",
       "  0.6010000109672546,\n",
       "  0.6046857237815857,\n",
       "  0.607200026512146,\n",
       "  0.621657133102417,\n",
       "  0.6206571459770203,\n",
       "  0.623028576374054,\n",
       "  0.6249428391456604,\n",
       "  0.6271428465843201,\n",
       "  0.6314857006072998,\n",
       "  0.6359142661094666,\n",
       "  0.6427714228630066,\n",
       "  0.6456571221351624,\n",
       "  0.6462000012397766,\n",
       "  0.6537142992019653],\n",
       " 'val_loss': [1.774119257926941,\n",
       "  1.715562105178833,\n",
       "  1.6072523593902588,\n",
       "  1.6666579246520996,\n",
       "  1.5788564682006836,\n",
       "  1.5532466173171997,\n",
       "  1.5736186504364014,\n",
       "  1.5903078317642212,\n",
       "  1.5506318807601929,\n",
       "  1.5652120113372803,\n",
       "  1.5495120286941528,\n",
       "  1.5810949802398682,\n",
       "  1.5499563217163086,\n",
       "  1.5758280754089355,\n",
       "  1.5457062721252441,\n",
       "  1.5818170309066772,\n",
       "  1.6255639791488647,\n",
       "  1.6701351404190063,\n",
       "  1.680235505104065,\n",
       "  1.659532904624939,\n",
       "  1.7289433479309082,\n",
       "  1.7229282855987549,\n",
       "  1.7427326440811157,\n",
       "  1.7317595481872559,\n",
       "  1.7408643960952759,\n",
       "  1.7799824476242065,\n",
       "  1.8281340599060059,\n",
       "  1.8418056964874268,\n",
       "  1.8777207136154175,\n",
       "  1.8268696069717407,\n",
       "  1.8702847957611084,\n",
       "  1.8664730787277222,\n",
       "  1.94423246383667,\n",
       "  1.9200104475021362,\n",
       "  2.044743061065674,\n",
       "  1.9622842073440552,\n",
       "  1.9411739110946655,\n",
       "  2.0801432132720947,\n",
       "  2.1421267986297607,\n",
       "  2.0977718830108643],\n",
       " 'val_accuracy': [0.353466659784317,\n",
       "  0.3787333369255066,\n",
       "  0.4238666594028473,\n",
       "  0.40413331985473633,\n",
       "  0.4320000112056732,\n",
       "  0.45080000162124634,\n",
       "  0.4381999969482422,\n",
       "  0.4352000057697296,\n",
       "  0.454800009727478,\n",
       "  0.4453999996185303,\n",
       "  0.46026667952537537,\n",
       "  0.45746666193008423,\n",
       "  0.46380001306533813,\n",
       "  0.45559999346733093,\n",
       "  0.4736666679382324,\n",
       "  0.46586665511131287,\n",
       "  0.45680001378059387,\n",
       "  0.4480000138282776,\n",
       "  0.44440001249313354,\n",
       "  0.4575999975204468,\n",
       "  0.4505999982357025,\n",
       "  0.4550666809082031,\n",
       "  0.45106667280197144,\n",
       "  0.4586000144481659,\n",
       "  0.46033334732055664,\n",
       "  0.45686665177345276,\n",
       "  0.4408666789531708,\n",
       "  0.44859999418258667,\n",
       "  0.4429333209991455,\n",
       "  0.45926666259765625,\n",
       "  0.4557333290576935,\n",
       "  0.4562000036239624,\n",
       "  0.4533333480358124,\n",
       "  0.4509333372116089,\n",
       "  0.4415999948978424,\n",
       "  0.4514666795730591,\n",
       "  0.45286667346954346,\n",
       "  0.4519333243370056,\n",
       "  0.4498666524887085,\n",
       "  0.4436666667461395]}"
      ]
     },
     "execution_count": 31,
     "metadata": {},
     "output_type": "execute_result"
    }
   ],
   "source": [
    "history.history"
   ]
  },
  {
   "cell_type": "code",
   "execution_count": 34,
   "metadata": {
    "collapsed": true,
    "jupyter": {
     "outputs_hidden": true
    }
   },
   "outputs": [
    {
     "data": {
      "text/plain": [
       "<AxesSubplot:>"
      ]
     },
     "execution_count": 34,
     "metadata": {},
     "output_type": "execute_result"
    },
    {
     "data": {
      "image/png": "[encoded data removed]",
      "text/plain": [
       "<Figure size 432x288 with 1 Axes>"
      ]
     },
     "metadata": {
      "needs_background": "light"
     },
     "output_type": "display_data"
    }
   ],
   "source": [
    "# Checking the performance of our model\n",
    "pd.DataFrame(history.history).plot()"
   ]
  },
  {
   "cell_type": "code",
   "execution_count": 35,
   "metadata": {
    "collapsed": true,
    "jupyter": {
     "outputs_hidden": true
    }
   },
   "outputs": [
    {
     "name": "stdout",
     "output_type": "stream",
     "text": [
      "313/313 [==============================] - 122s 371ms/step - loss: 2.0311 - accuracy: 0.4485\n"
     ]
    },
    {
     "data": {
      "text/plain": [
       "[2.0310769081115723, 0.44850000739097595]"
      ]
     },
     "execution_count": 35,
     "metadata": {},
     "output_type": "execute_result"
    }
   ],
   "source": [
    "# evaluating the model on the test data\n",
    "model.evaluate(test_ds)"
   ]
  },
  {
   "cell_type": "code",
   "execution_count": 43,
   "metadata": {
    "collapsed": true,
    "jupyter": {
     "outputs_hidden": true
    }
   },
   "outputs": [
    {
     "name": "stdout",
     "output_type": "stream",
     "text": [
      "(4, 32, 32, 3)\n",
      "(4,)\n"
     ]
    }
   ],
   "source": [
    "# generation some input from the test_ds to be used in predicting \n",
    "for img, lb in test_ds:\n",
    "    print(img[:4].shape)\n",
    "    print(lb[:4].shape)\n",
    "    image = img[:4]\n",
    "    label = lb[:4]\n",
    "    break"
   ]
  },
  {
   "cell_type": "code",
   "execution_count": 45,
   "metadata": {
    "collapsed": true,
    "jupyter": {
     "outputs_hidden": true
    }
   },
   "outputs": [],
   "source": [
    "# running a prediction on the model\n",
    "prob_predict = model.predict(image)"
   ]
  },
  {
   "cell_type": "code",
   "execution_count": 48,
   "metadata": {
    "collapsed": true,
    "jupyter": {
     "outputs_hidden": true
    }
   },
   "outputs": [
    {
     "data": {
      "text/plain": [
       "array(['dog', 'deer', 'dog', 'truck'], dtype='<U10')"
      ]
     },
     "execution_count": 48,
     "metadata": {},
     "output_type": "execute_result"
    }
   ],
   "source": [
    "# predicted label\n",
    "predict = class_label[prob_predict.argmax(axis = 1)]\n",
    "predict"
   ]
  },
  {
   "cell_type": "code",
   "execution_count": 53,
   "metadata": {
    "collapsed": true,
    "jupyter": {
     "outputs_hidden": true
    }
   },
   "outputs": [
    {
     "data": {
      "text/plain": [
       "array(['dog', 'deer', 'horse', 'dog'], dtype='<U10')"
      ]
     },
     "execution_count": 53,
     "metadata": {},
     "output_type": "execute_result"
    }
   ],
   "source": [
    "# actual label\n",
    "actual_label = class_label[np.array(label)]\n",
    "actual_label"
   ]
  },
  {
   "cell_type": "code",
   "execution_count": 55,
   "metadata": {
    "collapsed": true,
    "jupyter": {
     "outputs_hidden": true
    }
   },
   "outputs": [
    {
     "data": {
      "text/plain": [
       "[array([[-2.60950904e-02, -2.63698753e-02,  2.68406868e-02, ...,\n",
       "          1.22417927e-01, -4.44985405e-02, -1.13394083e-02],\n",
       "        [-3.13659497e-02, -1.86714586e-02, -3.52070071e-02, ...,\n",
       "          1.20468535e-01,  6.07513539e-05,  9.65113472e-03],\n",
       "        [-8.15506000e-03, -3.80092375e-02, -3.07999784e-03, ...,\n",
       "          6.27948999e-01,  2.08293460e-02,  1.99701581e-02],\n",
       "        ...,\n",
       "        [ 5.96103352e-03, -3.96754332e-02, -4.66282107e-03, ...,\n",
       "         -1.50388092e-01, -1.28507577e-02, -3.39771360e-02],\n",
       "        [-6.57599093e-03, -3.77745926e-02, -3.02913096e-02, ...,\n",
       "         -2.41550878e-01,  3.38570513e-02,  1.34094637e-02],\n",
       "        [-1.80551987e-02,  3.60735916e-02, -6.63135340e-03, ...,\n",
       "         -3.27629596e-01, -2.00156402e-02, -3.31095420e-02]], dtype=float32),\n",
       " array([-2.7262277e-03, -5.9995563e-03, -2.9328512e-03, -5.9883334e-03,\n",
       "        -4.4228504e-03,  1.5413033e+00, -4.2088493e-03, -6.6208933e-03,\n",
       "        -2.1069276e-03, -5.9963623e-03, -6.0012247e-03, -6.2797377e-03,\n",
       "        -6.0036923e-03, -6.0037398e-03, -6.0011339e-03,  4.4436587e-04,\n",
       "        -3.1507770e-03, -9.0783918e-03, -6.0045770e-03, -6.0025710e-03,\n",
       "         7.8846957e-04,  2.0184676e-01, -3.8337836e-03, -3.9372887e-03,\n",
       "        -5.9987493e-03, -3.5372996e-03, -4.1434430e-03, -5.9956238e-03,\n",
       "        -5.3759189e-03, -6.0032187e-03, -3.4120954e-03, -6.3189804e-03,\n",
       "        -8.2087945e-03, -6.0046571e-03, -6.8694712e-03, -1.8062337e-03,\n",
       "        -3.3497144e-03, -5.0610043e-03, -6.0015027e-03, -4.1776351e-03,\n",
       "        -5.3815977e-03,  3.8771930e-01, -2.1732152e-03, -2.8323510e-03,\n",
       "        -2.3545537e-03, -3.2312986e-03, -5.4151677e-03, -4.3712556e-03,\n",
       "        -5.0980682e-03, -5.2915180e-01, -1.7915209e-03, -5.1077618e-03,\n",
       "        -6.0021444e-03, -5.9701446e-03, -5.5939786e-04, -4.5607844e-03,\n",
       "        -1.7191811e-02,  1.8665029e-02, -5.0480645e-03,  1.6871852e-01,\n",
       "        -6.0022129e-03, -6.0034390e-03, -5.9954007e-03, -6.0039531e-03,\n",
       "        -4.3533915e-03, -2.9024445e-03, -2.6402411e-03,  0.0000000e+00,\n",
       "        -2.6887471e-02, -5.1427423e-03, -2.9538956e-03, -5.9991297e-03,\n",
       "        -5.9984582e-03, -4.7602309e-03, -4.7155167e-03, -6.0001020e-03,\n",
       "        -7.9907589e-03, -6.0023759e-03, -4.8191906e-03,  5.7814284e-03,\n",
       "        -5.1726270e-03, -7.0737083e-03, -4.2219697e-03, -2.1395106e-03,\n",
       "        -4.0321900e-03, -4.0402156e-03, -1.1914301e-02, -6.0029523e-03,\n",
       "        -5.7009566e-03, -4.9491873e-04, -2.2253266e-03, -5.2036163e-03,\n",
       "        -8.1571089e-03, -1.0742945e-02, -2.8903414e-03, -6.0017128e-03,\n",
       "        -6.0000303e-03, -5.3288159e-03, -1.3779321e-02, -5.4106326e-03,\n",
       "        -5.9772395e-03, -5.9960717e-03,  6.1196613e-01, -6.4848256e-03,\n",
       "        -4.7605424e-03, -3.8859691e-03, -2.7408681e-03, -5.8352379e-03,\n",
       "        -7.6069781e-03, -5.4679713e-03, -2.4658296e-01, -2.5251940e-02,\n",
       "         7.5564951e-02,  1.8573581e-01,  8.3781583e-03, -6.3327667e-03,\n",
       "        -6.0019903e-03,  3.2494836e-03, -6.7125862e-03, -2.8718780e-03,\n",
       "        -4.1104913e-01, -9.4327591e-03, -2.9302645e-03, -7.5945631e-03,\n",
       "        -5.9404909e-03, -5.0344891e-03, -4.9969899e-03, -1.1175504e-02,\n",
       "         2.5874564e-01, -5.9991945e-03, -1.4952232e-02, -6.8771630e-03,\n",
       "        -5.7325605e-03, -1.4713787e-03, -5.9967749e-03, -5.0152298e-03,\n",
       "        -4.5410790e-03, -3.1262696e-01, -5.0859572e-03, -5.9969597e-03,\n",
       "        -3.9751404e-03, -6.0037151e-03, -2.2926329e-02, -5.9945523e-03,\n",
       "        -5.5503477e-03,  6.8447506e-04, -5.9932834e-03, -5.9928098e-03,\n",
       "        -5.9958855e-03, -3.6615266e-03, -3.4499492e-03, -6.0041747e-03,\n",
       "         1.9155674e-01, -6.0016043e-03, -5.9675346e-03, -3.7998268e-03,\n",
       "         1.2548244e-01, -5.1068664e-03, -7.0707965e-01, -7.7800211e-03,\n",
       "        -6.0003721e-03, -4.9557486e-03, -5.1241419e-03, -3.8776882e-03,\n",
       "        -3.3879532e-03, -5.9670070e-03, -2.2373738e-02, -3.9272364e-03,\n",
       "        -6.5114810e-03, -4.5132628e-03,  5.4713037e-02, -5.5531119e-03,\n",
       "        -1.5932465e-02, -3.3924181e-03, -3.9654588e-03, -7.5583839e-01,\n",
       "        -6.0045882e-03, -5.5348156e-03, -5.9951032e-03, -2.2214954e-03,\n",
       "        -7.4551860e-04, -6.0040313e-03, -3.0720232e-03,  8.1307134e-03,\n",
       "         1.5429512e-05,  2.3759100e-01, -1.5578045e-03, -5.2008848e-03,\n",
       "        -6.0043186e-03, -4.7808187e-03, -7.9964073e-03, -6.0036178e-03,\n",
       "        -5.5453763e-03, -1.2982816e-03,  5.6802922e-01, -6.0128290e-03,\n",
       "        -1.4612292e-03, -1.0719941e-03, -1.8480857e-03, -2.8997293e-02,\n",
       "        -9.7281514e-03, -6.0044173e-03, -4.5403009e-03, -7.1715719e-01,\n",
       "         7.5737327e-01, -8.2222062e-01, -5.9982063e-03, -6.0044178e-03,\n",
       "        -3.0931970e-03, -6.2093320e-03, -6.0001593e-03, -2.5316284e-03,\n",
       "        -4.6616388e-03, -7.7979788e-03, -3.1608089e-03, -5.9890808e-03,\n",
       "        -5.9998273e-03,  2.8340505e-03, -6.6937459e-01, -2.6356688e-02,\n",
       "        -6.0037761e-03, -5.7530841e-03,  7.1887147e-01, -6.0040746e-03,\n",
       "        -1.1510536e-02, -2.8279242e-03, -6.0012904e-03, -2.6433924e-03,\n",
       "        -5.6543476e-03, -6.6278912e-03, -2.9161149e-01, -3.9945659e-03,\n",
       "        -4.7552547e-01, -5.9784553e-03, -3.7320933e-01, -5.1522572e-03,\n",
       "        -3.6926535e-03, -6.0039256e-03, -5.3027510e-03, -8.1782201e-03,\n",
       "        -6.0017570e-03, -3.5224222e-03, -6.7469985e-03, -6.0000396e-03,\n",
       "        -4.4581308e-03, -8.4061110e-03, -4.2614895e-03, -9.6494652e-04,\n",
       "        -2.7737562e-03, -6.6959448e-03, -4.8928251e-03, -2.9277746e-02,\n",
       "        -2.6606945e-03, -2.5910456e-03, -2.2524269e-03, -2.3441380e-02,\n",
       "        -3.0234221e-03, -6.0005188e-03, -4.3026009e-03, -3.2774091e-03,\n",
       "        -6.9785952e-03, -5.9986282e-03, -6.0030320e-03,  4.5211205e-01,\n",
       "        -6.0029249e-03, -4.6370071e-03, -5.1199007e-03,  9.9542970e-03,\n",
       "         3.4318953e-03, -6.0015237e-03, -3.7805848e-02, -5.9986338e-03,\n",
       "        -3.6820897e-04, -5.5380366e-03, -3.6893634e-03,  2.1003947e-01,\n",
       "        -6.0013854e-03, -5.3271633e-03, -2.1145991e-03,  3.6396897e-01,\n",
       "        -6.0032210e-03, -6.0017798e-03, -6.0038995e-03, -5.9876652e-03,\n",
       "        -5.2631279e-03, -5.5277525e-03, -6.2378407e-03, -6.0015619e-03,\n",
       "        -2.2467996e-03,  3.1873517e-02, -6.0047046e-03, -6.0008084e-03,\n",
       "        -5.9959358e-03, -4.1677649e-03, -9.2731006e-03, -8.6660990e-03,\n",
       "        -6.8326038e-03, -6.1926931e-01, -6.0004154e-03, -5.9973132e-03],\n",
       "       dtype=float32)]"
      ]
     },
     "execution_count": 55,
     "metadata": {},
     "output_type": "execute_result"
    }
   ],
   "source": [
    "# weights and biases of the first dense layer\n",
    "model.layers[2].get_weights()"
   ]
  },
  {
   "cell_type": "code",
   "execution_count": 56,
   "metadata": {
    "collapsed": true,
    "jupyter": {
     "outputs_hidden": true
    }
   },
   "outputs": [
    {
     "name": "stdout",
     "output_type": "stream",
     "text": [
      "INFO:tensorflow:Assets written to: cifar.hf5\\assets\n"
     ]
    }
   ],
   "source": [
    "# Saving my model\n",
    "model.save('cifar.hf5')"
   ]
  }
 ],
 "metadata": {
  "kernelspec": {
   "display_name": "Python 3",
   "language": "python",
   "name": "python3"
  },
  "language_info": {
   "codemirror_mode": {
    "name": "ipython",
    "version": 3
   },
   "file_extension": ".py",
   "mimetype": "text/x-python",
   "name": "python",
   "nbconvert_exporter": "python",
   "pygments_lexer": "ipython3",
   "version": "3.7.4"
  }
 },
 "nbformat": 4,
 "nbformat_minor": 4
}
